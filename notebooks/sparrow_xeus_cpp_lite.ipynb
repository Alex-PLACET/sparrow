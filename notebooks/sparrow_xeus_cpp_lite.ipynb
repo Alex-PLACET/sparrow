{
  "metadata": {
    "kernelspec": {
      "name": "xcpp20",
      "display_name": "C++20",
      "language": "cpp"
    },
    "language_info": {
      "codemirror_mode": "text/x-c++src",
      "file_extension": ".cpp",
      "mimetype": "text/x-c++src",
      "name": "C++",
      "version": "20"
    }
  },
  "nbformat_minor": 5,
  "nbformat": 4,
  "cells": [
    {
      "id": "38fd8a7b-84a9-43d8-80ef-bb879f13b495",
      "cell_type": "code",
      "source": "%mamba install sparrow",
      "metadata": {
        "trusted": true
      },
      "outputs": [],
      "execution_count": null
    },
    {
      "id": "5c734ada-78c9-4561-a635-6c4d30e28365",
      "cell_type": "code",
      "source": "#include <sparrow.hpp>\nnamespace sp = sparrow;\n#include <iostream>\n#include <iomanip>",
      "metadata": {
        "trusted": true
      },
      "outputs": [],
      "execution_count": null
    },
    {
      "id": "8c7a198a-2b95-4a63-a0fb-fcbe361b63bf",
      "cell_type": "markdown",
      "source": "# sparrow::nullable",
      "metadata": {}
    },
    {
      "id": "ee9e9083-af4a-4cf4-b7d1-d1fac0861870",
      "cell_type": "code",
      "source": "sp::nullable<int> n1;\nstd::cout << (n1.has_value() ? \"true\" : \"false\") << std::endl;",
      "metadata": {
        "trusted": true
      },
      "outputs": [],
      "execution_count": null
    },
    {
      "id": "4f4d5dee-2c9a-4d06-8025-6b2d84641b1a",
      "cell_type": "code",
      "source": "sp::nullable<int> n2 = 42;\nstd::cout << (n2.has_value() ? \"true\" : \"false\") << std::endl;\nstd::cout << n2.value() << std::endl;",
      "metadata": {
        "trusted": true
      },
      "outputs": [],
      "execution_count": null
    },
    {
      "id": "42a4eb79-03b3-4831-9720-8947b9e01788",
      "cell_type": "code",
      "source": "sp::nullable<int> n3 = sp::make_nullable(7, false);\nstd::cout << (n3.has_value() ? \"true\" : \"false\") << std::endl;\nstd::cout << n3.get() << std::endl;",
      "metadata": {
        "trusted": true
      },
      "outputs": [],
      "execution_count": null
    },
    {
      "id": "f2bba405-a25a-4ee1-9e85-ccaba37f8193",
      "cell_type": "markdown",
      "source": "# Typed Array Construction",
      "metadata": {}
    },
    {
      "id": "358ccce3-e0dd-474e-b58b-e96beafbbeb4",
      "cell_type": "code",
      "source": "const std::vector<int32_t> values = { 1, 2, 3, 4, 5 };\nconst std::vector<bool> validity { true, true, false, true, true };",
      "metadata": {
        "trusted": true
      },
      "outputs": [],
      "execution_count": null
    },
    {
      "id": "2984776d-30ee-41a7-b9bf-beeb1d57d5e8",
      "cell_type": "code",
      "source": "sp::primitive_array<int32_t> ar2{values, validity, \"my_array\"};",
      "metadata": {
        "trusted": true
      },
      "outputs": [],
      "execution_count": null
    },
    {
      "id": "617d4fbf-a292-43c8-8a55-e8a30a1c5fd3",
      "cell_type": "code",
      "source": "sp::u8_buffer<int32_t> buffer{values};",
      "metadata": {
        "trusted": true
      },
      "outputs": [],
      "execution_count": null
    },
    {
      "id": "4801f6f4-cc25-40c3-969c-f6e518a170f1",
      "cell_type": "markdown",
      "source": "# Typed Array Access",
      "metadata": {}
    },
    {
      "id": "6f82effa-26be-4793-837f-7af923260ecd",
      "cell_type": "code",
      "source": "std::cout << \"name: \"               << ar2.name().value()  << std::endl;\nstd::cout << \"size: \"               << ar2.size()          << std::endl;\nstd::cout << \"front: \"              << ar2.front().value() << std::endl;\nstd::cout << \"back: \"               << ar2.back().value()  << std::endl;\nstd::cout << \"ar[4].has_value(): \"  << ar2[4].has_value()  << std::endl;\nstd::cout << \"ar[4].get(): \"        << ar2[4].get()        << std::endl;\nstd::cout << \"ar[4].value_or(42): \" << ar2[4].value_or(42) << std::endl;",
      "metadata": {
        "trusted": true
      },
      "outputs": [],
      "execution_count": null
    },
    {
      "id": "876a6ca1-fabe-49f8-a478-b5ca0ebc43d7",
      "cell_type": "code",
      "source": "for(const auto& nullable_value : ar2)\n{\n    std::cout<< (nullable_value.has_value() ? std::to_string(nullable_value.value()) : \"null\") << \", \";\n}",
      "metadata": {
        "trusted": true
      },
      "outputs": [],
      "execution_count": null
    },
    {
      "id": "de8bceba-80ac-47c9-b767-3abebe1d92cc",
      "cell_type": "code",
      "source": "for(const auto& value : ar2.values())\n{\n    std::cout<< value << \", \";\n}",
      "metadata": {
        "trusted": true
      },
      "outputs": [],
      "execution_count": null
    },
    {
      "id": "632bfe8e-f22d-420e-9035-c35dba4c918c",
      "cell_type": "code",
      "source": "for(const auto& validity : ar2.bitmap())\n{\n    std::cout<< (validity ? \"true\" : \"false\") << \", \";\n}",
      "metadata": {
        "trusted": true
      },
      "outputs": [],
      "execution_count": null
    },
    {
      "id": "0dae556f-be1f-4153-ab67-36bab3840241",
      "cell_type": "markdown",
      "source": "# Typed Array Mutability",
      "metadata": {}
    },
    {
      "id": "8703b46d-a65e-4ffe-85d8-1f4edb739050",
      "cell_type": "code",
      "source": "ar2[3] = 0;\nstd::cout<< ar2[3].value();",
      "metadata": {
        "trusted": true
      },
      "outputs": [],
      "execution_count": null
    },
    {
      "id": "df197247-83fb-49ff-b4b1-72eeb45211ac",
      "cell_type": "code",
      "source": "ar2[4] = sp::make_nullable(7, false);\nstd::cout<< (ar2[4].has_value() ? \"true\" : \"false\") << std::endl;\nstd::cout<< ar2[4].get() << std::endl;\nar2[4].null_flag() = true;\nstd::cout<< (ar2[4].has_value() ? \"true\" : \"false\") << std::endl;\nstd::cout<< ar2[4].get() << std::endl;",
      "metadata": {
        "trusted": true
      },
      "outputs": [],
      "execution_count": null
    },
    {
      "id": "2e155f1c-eeeb-4eb1-836f-cc70c30eb099",
      "cell_type": "code",
      "source": "try {ar2.at(99); }// throws\ncatch(...) {\n    std::cerr<< \"Catched !\";\n}",
      "metadata": {
        "trusted": true
      },
      "outputs": [],
      "execution_count": null
    },
    {
      "id": "1673590b-86b2-4ece-8a3d-2a0c5cdfbe83",
      "cell_type": "code",
      "source": "ar2.push_back(sp::make_nullable(111, false));\nstd::cout<< ar2.back().has_value() << std::endl;\nstd::cout<< ar2.back().get() << std::endl;",
      "metadata": {
        "trusted": true
      },
      "outputs": [],
      "execution_count": null
    },
    {
      "id": "e6da1d7a-9efa-4fce-8bf7-eee5ac91a3c9",
      "cell_type": "code",
      "source": "ar2.pop_back();\nstd::cout<< ar2.back().get();",
      "metadata": {
        "trusted": true
      },
      "outputs": [],
      "execution_count": null
    },
    {
      "id": "4d9b736a-3a96-4639-9bca-d0c821d3f44e",
      "cell_type": "code",
      "source": "ar2.insert(ar2.cbegin() + 2, sp::make_nullable(222, true));\nfor(const auto& nullable_value : ar2)\n{\n    std::cout<< (nullable_value.has_value() ? std::to_string(nullable_value.value()) : \"null\") << \", \";\n}",
      "metadata": {
        "trusted": true
      },
      "outputs": [],
      "execution_count": null
    },
    {
      "id": "5eb16412-9d88-49b7-8271-bc2d8b2fdc9f",
      "cell_type": "code",
      "source": "ar2.resize(20, sp::make_nullable(333, true)); \nfor(const auto& nullable_value : ar2)\n{\n    std::cout<< (nullable_value.has_value() ? std::to_string(nullable_value.value()) : \"null\") << \", \";\n}\n",
      "metadata": {
        "trusted": true
      },
      "outputs": [],
      "execution_count": null
    },
    {
      "id": "2180a814-8322-4b33-b123-7b42e3150c2e",
      "cell_type": "code",
      "source": "ar2.zero_null_values();\nfor(const auto& nullable_value : ar2)\n{\n    std::cout << std::setw(5) << (nullable_value.has_value() ? std::to_string(nullable_value.value()) : \"null\") << \", \";\n}\nstd::cout << std::endl;\nfor(const auto& value : ar2.values())\n{\n     std::cout << std::setw(5) << value << \", \";\n}",
      "metadata": {
        "trusted": true
      },
      "outputs": [],
      "execution_count": null
    },
    {
      "id": "528c8b26-1dee-4ff9-9bce-495e6863f409",
      "cell_type": "markdown",
      "source": "# Slicing",
      "metadata": {}
    },
    {
      "id": "ed075889-1ba6-414b-9d23-ff26a0f5357a",
      "cell_type": "code",
      "source": "sp::primitive_array<int32_t> ar_slice = ar2.slice(3, 5);\nfor(const auto& value : ar_slice.values())\n{\n     std::cout << value << \", \";\n}",
      "metadata": {
        "trusted": true
      },
      "outputs": [],
      "execution_count": null
    },
    {
      "id": "601b7e88-dce9-4576-bd70-11c146f8eff2",
      "cell_type": "code",
      "source": "sp::primitive_array<int32_t> ar_slice_view = ar2.slice_view(3, 5);",
      "metadata": {
        "trusted": true
      },
      "outputs": [],
      "execution_count": null
    },
    {
      "id": "53125fce-b5ed-4310-9dcf-196c20fd3304",
      "cell_type": "code",
      "source": "for(const auto& value : ar_slice.values())\n{\n     std::cout << value << \", \";\n}",
      "metadata": {
        "trusted": true
      },
      "outputs": [],
      "execution_count": null
    },
    {
      "id": "1f1c91e2-8eb4-4659-87b3-fe2b3dba6ccf",
      "cell_type": "markdown",
      "source": "# Interoperability with Arrow C Data Interface",
      "metadata": {}
    },
    {
      "id": "381c0f65-250b-4956-8f01-9a1c5c62e0f6",
      "cell_type": "code",
      "source": "// ArrowArray* array_ptr = get_arrow_array(ar2);\n// ArrowSchema* schema_ptr = get_arrow_schema(ar2);\nauto [arrow_array_ptr, arrow_schema_ptr] = sp::get_arrow_structures(ar2);\n\n// ArrowArray array = extract_arrow_array(arr);\n// ArrowSchema schema = extract_arrow_schema(arr);\nauto [arrow_array, arrow_schema] = sp::extract_arrow_structures(std::move(ar2));",
      "metadata": {
        "trusted": true
      },
      "outputs": [],
      "execution_count": null
    },
    {
      "id": "3ca699ec-1e2c-48aa-901b-9fb47b1f450e",
      "cell_type": "markdown",
      "source": "# Untyped Arrays",
      "metadata": {}
    },
    {
      "id": "0e3cb876-065b-4d66-a4fa-72c38bfb806b",
      "cell_type": "code",
      "source": "sp::array ar(std::move(arrow_array), std::move(arrow_schema));\n\nar.visit([]<class T>(const T& typed_ar)\n{\n    if constexpr (sp::is_primitive_array_v<T>)\n    {\n        for(const auto& value : typed_ar.values())\n        {\n             std::cout << value << \", \";\n        }\n    }\n    // else if constexpr ...\n});",
      "metadata": {
        "trusted": true
      },
      "outputs": [],
      "execution_count": null
    },
    {
      "id": "dc6ab02c-cf26-488a-acef-288de9b931fc",
      "cell_type": "markdown",
      "source": "# Record Batch",
      "metadata": {}
    },
    {
      "id": "f7613383-0e88-4b3d-ad33-57f76dd7ede2",
      "cell_type": "code",
      "source": "#include <sparrow/record_batch.hpp>\nsp::primitive_array<std::uint16_t> ar_int(\n    std::vector<std::uint16_t>{ 1, 2, 3, 4, 5 },\n    sp::validity_bitmap{},\n    \"my_primitives\");\n\nsp::string_array ar_str(\n    std::vector<std::string>{ \"one\", \"two\", \"three\", \"four\", \"five\" },\n    sp::validity_bitmap{},\n    \"my_strings\");\n\nstd::vector<sp::array> arr_list = {sp::array(std::move(ar_int)), sp::array(std::move(ar_str))};\n\nsp::record_batch rb(std::move(arr_list), \"my_record_batch\");",
      "metadata": {
        "trusted": true
      },
      "outputs": [],
      "execution_count": null
    },
    {
      "id": "7b963bfd-517f-4b3b-9497-bc5c555bce38",
      "cell_type": "code",
      "source": "std::cout << \"Columns count: \" << rb.nb_columns() << std::endl;\nstd::cout << \"Rows count: \" << rb.nb_rows() << std::endl;",
      "metadata": {
        "trusted": true
      },
      "outputs": [],
      "execution_count": null
    },
    {
      "id": "f6626910-fa00-4832-847f-51ba84d8ce8d",
      "cell_type": "code",
      "source": "for(const auto& column : rb.columns())\n{\n    column.visit([]<class T>(const T& typed_ar)\n    {\n        std::cout << typed_ar.name().value() << \": \";\n        if constexpr (sp::is_primitive_array_v<T> || sp::is_string_array_v<T>)\n        {\n            for(const auto& value : typed_ar.values())\n            {\n                 std::cout << value << \", \";\n            }\n        }   \n    });\n    std::cout << std::endl;\n}",
      "metadata": {
        "trusted": true
      },
      "outputs": [],
      "execution_count": null
    }
  ]
}